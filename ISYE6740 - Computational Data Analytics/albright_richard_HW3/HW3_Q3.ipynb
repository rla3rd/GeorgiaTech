{
 "cells": [
  {
   "cell_type": "code",
   "execution_count": 1,
   "metadata": {},
   "outputs": [],
   "source": [
    "from scipy.io import loadmat\n",
    "import numpy as np\n",
    "import scipy as sp\n",
    "import matplotlib.pyplot as plt\n",
    "from mpl_toolkits.axes_grid1 import ImageGrid"
   ]
  },
  {
   "cell_type": "markdown",
   "metadata": {},
   "source": [
    "## a. \n",
    "Implement the low-rank approximation (with r= 5) and perform EM algorithm. Use the similar initialization method as the last question. Plot the log-likelihood function versus the number of iterations to show your algorithm is converging."
   ]
  },
  {
   "cell_type": "code",
   "execution_count": 2,
   "metadata": {},
   "outputs": [],
   "source": [
    "images = loadmat('data/data.mat')['data']\n",
    "labels = loadmat('data/label.mat')['trueLabel']\n",
    "\n",
    "K = 2  # number of clusters\n",
    "d = 5  # reduced dimension\n",
    "seed = 3836\n",
    "np.random.seed(seed)\n",
    "images = images.T\n",
    "m, n = images.shape\n",
    "cimages = images - np.mean(images, axis=0)"
   ]
  },
  {
   "cell_type": "code",
   "execution_count": 3,
   "metadata": {},
   "outputs": [],
   "source": [
    "def lowrank_mvn_pdf(X, mu, s, r=5):\n",
    "    evals, evecs = np.linalg.eig(s)\n",
    "    evecs = evecs[:,np.argsort(-evals)][:,:r]\n",
    "    evals = evals[np.argsort(-evals)][:r]\n",
    "    X = X.dot(evecs)\n",
    "    mu = mu.dot(evecs)\n",
    "    prob = 1/np.sqrt(np.prod(evals)) * np.exp(-1/2 * np.sum((X-mu)**2 / evals, axis=1))\n",
    "    prob = prob.real\n",
    "    return prob"
   ]
  },
  {
   "cell_type": "code",
   "execution_count": 4,
   "metadata": {},
   "outputs": [],
   "source": [
    "def gen_random_input(clus, dim):\n",
    "    pi = np.random.rand(clus)\n",
    "    pi = pi/np.sum(pi)\n",
    "    mu = np.random.rand(clus,dim)\n",
    "    sigma = []\n",
    "    for ii in range(clus):\n",
    "        # to ensure the covariance psd\n",
    "        # np.random.seed(seed)\n",
    "        dummy = np.random.randn(dim, dim)\n",
    "        sigma.append(dummy@dummy.T)\n",
    "    sigma = np.array(sigma) + np.eye(dim)\n",
    "    return pi, mu, sigma"
   ]
  },
  {
   "cell_type": "code",
   "execution_count": 5,
   "metadata": {},
   "outputs": [],
   "source": [
    "pi, mu, sigma = gen_random_input(K, n)\n",
    "mu_old = mu.copy()\n",
    "tau = np.full((m, K), fill_value=0.)"
   ]
  },
  {
   "cell_type": "code",
   "execution_count": 6,
   "metadata": {},
   "outputs": [],
   "source": [
    "maxIter= 200\n",
    "tol = 1e-4\n",
    "\n",
    "ll = []\n",
    "for ii in range(maxIter):\n",
    "\n",
    "    # E-step    \n",
    "    for kk in range(K):\n",
    "        tau[:, kk] = pi[kk] * lowrank_mvn_pdf(cimages, mu[kk], sigma[kk], r=5)\n",
    "    # normalize tau\n",
    "    sum_tau = np.sum(tau, axis=1)\n",
    "    sum_tau.shape = (m,1)    \n",
    "    tau = np.divide(tau, np.tile(sum_tau, (1, K)))\n",
    "    ll.append(np.sum(np.log(sum_tau))) \n",
    "    \n",
    "    # M-step\n",
    "    for kk in range(K):\n",
    "        # update prior\n",
    "        pi[kk] = np.sum(tau[:, kk])/m\n",
    "        \n",
    "        # update component mean\n",
    "        mu[kk] = cimages.T @ tau[:,kk] / np.sum(tau[:,kk], axis = 0)\n",
    "        \n",
    "        # update cov matrix\n",
    "        dummy = cimages - np.tile(mu[kk], (m,1)) # X-mu\n",
    "        sigma[kk] = dummy.T @ np.diag(tau[:,kk]) @ dummy / np.sum(tau[:,kk], axis = 0)\n",
    "        \n",
    "    # print('-----iteration---',ii)    \n",
    "    if np.linalg.norm(mu-mu_old) < tol:\n",
    "        # print('training coverged')\n",
    "        break\n",
    "    mu_old = mu.copy()\n",
    "    if ii==maxIter-1:\n",
    "        # print('max iteration reached')\n",
    "        break"
   ]
  },
  {
   "cell_type": "code",
   "execution_count": 7,
   "metadata": {},
   "outputs": [
    {
     "data": {
      "image/png": "[encoded data removed]",
      "text/plain": [
       "<Figure size 432x288 with 1 Axes>"
      ]
     },
     "metadata": {
      "needs_background": "light"
     },
     "output_type": "display_data"
    }
   ],
   "source": [
    "plt.plot(ll)\n",
    "plt.xlabel('iterations')\n",
    "plt.ylabel('log-likehood')\n",
    "plt.savefig('data/HW3_Q3a_r5.png')"
   ]
  },
  {
   "cell_type": "markdown",
   "metadata": {},
   "source": [
    "## b.\n",
    "Use  the τik to  infer  the  labels  of  the  images,  and  compare  with  the  truelabels.  Report the misclassification rate for digits “2” and “6” respectively.  Comparewith GMM using PCA that you have implemented in Question 2.  Which one achieves better performance?"
   ]
  },
  {
   "cell_type": "code",
   "execution_count": 12,
   "metadata": {},
   "outputs": [
    {
     "name": "stdout",
     "output_type": "stream",
     "text": [
      "total misclassification rate: 0.04472361809045226\n",
      "2 misclassification rate: 0.044573643410852716\n",
      "6 misclassification rate: 0.044885177453027114\n"
     ]
    }
   ],
   "source": [
    "def ifelse(cond, a, b):\n",
    "    if cond:\n",
    "        return a\n",
    "    else:\n",
    "        return b\n",
    "\n",
    "predictions = np.array([ifelse(t[0] >= t[1], 0, 1) for t in tau])\n",
    "actuals = [ifelse(a==2, 0, 1) for a in labels.flatten().tolist()]\n",
    "diffs = np.abs(np.array(predictions) - np.array(actuals))\n",
    "misclassify = np.sum(diffs)/diffs.shape[0]\n",
    "idx2 = np.where(labels == 2)[1]\n",
    "idx6 = np.where(labels == 6)[1]\n",
    "miss2 = sum(predictions[idx2])/predictions[idx2].shape[0]\n",
    "miss6 = 1 - sum(predictions[idx6])/predictions[idx6].shape[0]\n",
    "print(f\"total misclassification rate: {misclassify}\")\n",
    "print(f\"2 misclassification rate: {miss2}\")\n",
    "print(f\"6 misclassification rate: {miss6}\")"
   ]
  },
  {
   "cell_type": "code",
   "execution_count": null,
   "metadata": {},
   "outputs": [],
   "source": []
  }
 ],
 "metadata": {
  "kernelspec": {
   "display_name": "Python [conda env:root] *",
   "language": "python",
   "name": "conda-root-py"
  },
  "language_info": {
   "codemirror_mode": {
    "name": "ipython",
    "version": 3
   },
   "file_extension": ".py",
   "mimetype": "text/x-python",
   "name": "python",
   "nbconvert_exporter": "python",
   "pygments_lexer": "ipython3",
   "version": "3.7.3"
  }
 },
 "nbformat": 4,
 "nbformat_minor": 4
}
