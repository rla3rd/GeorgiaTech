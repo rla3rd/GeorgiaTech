{
 "cells": [
  {
   "cell_type": "markdown",
   "metadata": {},
   "source": [
    "Richard Albright\n",
    "\n",
    "ISYE65501\n"
   ]
  },
  {
   "cell_type": "markdown",
   "metadata": {},
   "source": []
  },
  {
   "cell_type": "markdown",
   "metadata": {},
   "source": [
    "Question 15.2\n",
    "\n",
    "In the videos, we saw the “diet problem”. (The diet problem is one of the first large-scale optimization problems to be studied in practice. Back in the 1930’s and 40’s, the Army wanted to meet the nutritional requirements of its soldiers while minimizing the cost.) In this homework you get to solve a diet problem with real data. The data is given in the file diet.xls.\n",
    "\n",
    "Formulate an optimization model (a linear program) to find the cheapest diet that satisfies the maximum and minimum daily nutrition constraints, and solve it using PuLP. Turn in your code and the solution. (The optimal solution should be a diet of air-popped popcorn, poached eggs, oranges, raw iceberg lettuce, raw celery, and frozen broccoli. UGH!)\n",
    "  "
   ]
  },
  {
   "cell_type": "markdown",
   "metadata": {},
   "source": [
    "Import the pulp and pandas module that are needed for this problem."
   ]
  },
  {
   "cell_type": "code",
   "execution_count": 1,
   "metadata": {},
   "outputs": [],
   "source": [
    "from pulp import *\n",
    "import pandas as pd\n",
    "import warnings\n",
    "warnings.simplefilter('ignore')"
   ]
  },
  {
   "cell_type": "markdown",
   "metadata": {},
   "source": [
    "Use pandas to read in the excel file"
   ]
  },
  {
   "cell_type": "code",
   "execution_count": 2,
   "metadata": {},
   "outputs": [],
   "source": [
    "excel = pd.read_excel('diet.xls')"
   ]
  },
  {
   "cell_type": "markdown",
   "metadata": {},
   "source": [
    "Since the excel file has 2 sections in the sheet, create 2 dataframes, one containing the diet, and the other containing the constraints."
   ]
  },
  {
   "cell_type": "code",
   "execution_count": 3,
   "metadata": {},
   "outputs": [],
   "source": [
    "diet = excel[:64]\n",
    "constraints = excel[65:]\n",
    "constraints.drop(['Foods', 'Price/ Serving'], axis=1, inplace=True)"
   ]
  },
  {
   "cell_type": "markdown",
   "metadata": {},
   "source": [
    "Display both of our data frames to ensure they loaded properly."
   ]
  },
  {
   "cell_type": "code",
   "execution_count": 4,
   "metadata": {},
   "outputs": [
    {
     "data": {
      "text/html": [
       "<div>\n",
       "<style scoped>\n",
       "    .dataframe tbody tr th:only-of-type {\n",
       "        vertical-align: middle;\n",
       "    }\n",
       "\n",
       "    .dataframe tbody tr th {\n",
       "        vertical-align: top;\n",
       "    }\n",
       "\n",
       "    .dataframe thead th {\n",
       "        text-align: right;\n",
       "    }\n",
       "</style>\n",
       "<table border=\"1\" class=\"dataframe\">\n",
       "  <thead>\n",
       "    <tr style=\"text-align: right;\">\n",
       "      <th></th>\n",
       "      <th>Foods</th>\n",
       "      <th>Price/ Serving</th>\n",
       "      <th>Serving Size</th>\n",
       "      <th>Calories</th>\n",
       "      <th>Cholesterol mg</th>\n",
       "      <th>Total_Fat g</th>\n",
       "      <th>Sodium mg</th>\n",
       "      <th>Carbohydrates g</th>\n",
       "      <th>Dietary_Fiber g</th>\n",
       "      <th>Protein g</th>\n",
       "      <th>Vit_A IU</th>\n",
       "      <th>Vit_C IU</th>\n",
       "      <th>Calcium mg</th>\n",
       "      <th>Iron mg</th>\n",
       "    </tr>\n",
       "  </thead>\n",
       "  <tbody>\n",
       "    <tr>\n",
       "      <th>0</th>\n",
       "      <td>Frozen Broccoli</td>\n",
       "      <td>0.16</td>\n",
       "      <td>10 Oz Pkg</td>\n",
       "      <td>73.8</td>\n",
       "      <td>0.0</td>\n",
       "      <td>0.8</td>\n",
       "      <td>68.2</td>\n",
       "      <td>13.6</td>\n",
       "      <td>8.5</td>\n",
       "      <td>8.0</td>\n",
       "      <td>5867.4</td>\n",
       "      <td>160.2</td>\n",
       "      <td>159.0</td>\n",
       "      <td>2.3</td>\n",
       "    </tr>\n",
       "    <tr>\n",
       "      <th>1</th>\n",
       "      <td>Carrots,Raw</td>\n",
       "      <td>0.07</td>\n",
       "      <td>1/2 Cup Shredded</td>\n",
       "      <td>23.7</td>\n",
       "      <td>0.0</td>\n",
       "      <td>0.1</td>\n",
       "      <td>19.2</td>\n",
       "      <td>5.6</td>\n",
       "      <td>1.6</td>\n",
       "      <td>0.6</td>\n",
       "      <td>15471.0</td>\n",
       "      <td>5.1</td>\n",
       "      <td>14.9</td>\n",
       "      <td>0.3</td>\n",
       "    </tr>\n",
       "    <tr>\n",
       "      <th>2</th>\n",
       "      <td>Celery, Raw</td>\n",
       "      <td>0.04</td>\n",
       "      <td>1 Stalk</td>\n",
       "      <td>6.4</td>\n",
       "      <td>0.0</td>\n",
       "      <td>0.1</td>\n",
       "      <td>34.8</td>\n",
       "      <td>1.5</td>\n",
       "      <td>0.7</td>\n",
       "      <td>0.3</td>\n",
       "      <td>53.6</td>\n",
       "      <td>2.8</td>\n",
       "      <td>16.0</td>\n",
       "      <td>0.2</td>\n",
       "    </tr>\n",
       "    <tr>\n",
       "      <th>3</th>\n",
       "      <td>Frozen Corn</td>\n",
       "      <td>0.18</td>\n",
       "      <td>1/2 Cup</td>\n",
       "      <td>72.2</td>\n",
       "      <td>0.0</td>\n",
       "      <td>0.6</td>\n",
       "      <td>2.5</td>\n",
       "      <td>17.1</td>\n",
       "      <td>2.0</td>\n",
       "      <td>2.5</td>\n",
       "      <td>106.6</td>\n",
       "      <td>5.2</td>\n",
       "      <td>3.3</td>\n",
       "      <td>0.3</td>\n",
       "    </tr>\n",
       "    <tr>\n",
       "      <th>4</th>\n",
       "      <td>Lettuce,Iceberg,Raw</td>\n",
       "      <td>0.02</td>\n",
       "      <td>1 Leaf</td>\n",
       "      <td>2.6</td>\n",
       "      <td>0.0</td>\n",
       "      <td>0.0</td>\n",
       "      <td>1.8</td>\n",
       "      <td>0.4</td>\n",
       "      <td>0.3</td>\n",
       "      <td>0.2</td>\n",
       "      <td>66.0</td>\n",
       "      <td>0.8</td>\n",
       "      <td>3.8</td>\n",
       "      <td>0.1</td>\n",
       "    </tr>\n",
       "  </tbody>\n",
       "</table>\n",
       "</div>"
      ],
      "text/plain": [
       "                 Foods  Price/ Serving      Serving Size  Calories  \\\n",
       "0      Frozen Broccoli            0.16         10 Oz Pkg      73.8   \n",
       "1          Carrots,Raw            0.07  1/2 Cup Shredded      23.7   \n",
       "2          Celery, Raw            0.04           1 Stalk       6.4   \n",
       "3          Frozen Corn            0.18           1/2 Cup      72.2   \n",
       "4  Lettuce,Iceberg,Raw            0.02            1 Leaf       2.6   \n",
       "\n",
       "   Cholesterol mg  Total_Fat g  Sodium mg  Carbohydrates g  Dietary_Fiber g  \\\n",
       "0             0.0          0.8       68.2             13.6              8.5   \n",
       "1             0.0          0.1       19.2              5.6              1.6   \n",
       "2             0.0          0.1       34.8              1.5              0.7   \n",
       "3             0.0          0.6        2.5             17.1              2.0   \n",
       "4             0.0          0.0        1.8              0.4              0.3   \n",
       "\n",
       "   Protein g  Vit_A IU  Vit_C IU  Calcium mg  Iron mg  \n",
       "0        8.0    5867.4     160.2       159.0      2.3  \n",
       "1        0.6   15471.0       5.1        14.9      0.3  \n",
       "2        0.3      53.6       2.8        16.0      0.2  \n",
       "3        2.5     106.6       5.2         3.3      0.3  \n",
       "4        0.2      66.0       0.8         3.8      0.1  "
      ]
     },
     "execution_count": 4,
     "metadata": {},
     "output_type": "execute_result"
    }
   ],
   "source": [
    "diet.head()"
   ]
  },
  {
   "cell_type": "code",
   "execution_count": 5,
   "metadata": {},
   "outputs": [
    {
     "data": {
      "text/html": [
       "<div>\n",
       "<style scoped>\n",
       "    .dataframe tbody tr th:only-of-type {\n",
       "        vertical-align: middle;\n",
       "    }\n",
       "\n",
       "    .dataframe tbody tr th {\n",
       "        vertical-align: top;\n",
       "    }\n",
       "\n",
       "    .dataframe thead th {\n",
       "        text-align: right;\n",
       "    }\n",
       "</style>\n",
       "<table border=\"1\" class=\"dataframe\">\n",
       "  <thead>\n",
       "    <tr style=\"text-align: right;\">\n",
       "      <th></th>\n",
       "      <th>Serving Size</th>\n",
       "      <th>Calories</th>\n",
       "      <th>Cholesterol mg</th>\n",
       "      <th>Total_Fat g</th>\n",
       "      <th>Sodium mg</th>\n",
       "      <th>Carbohydrates g</th>\n",
       "      <th>Dietary_Fiber g</th>\n",
       "      <th>Protein g</th>\n",
       "      <th>Vit_A IU</th>\n",
       "      <th>Vit_C IU</th>\n",
       "      <th>Calcium mg</th>\n",
       "      <th>Iron mg</th>\n",
       "    </tr>\n",
       "  </thead>\n",
       "  <tbody>\n",
       "    <tr>\n",
       "      <th>65</th>\n",
       "      <td>Minimum daily intake</td>\n",
       "      <td>1500.0</td>\n",
       "      <td>30.0</td>\n",
       "      <td>20.0</td>\n",
       "      <td>800.0</td>\n",
       "      <td>130.0</td>\n",
       "      <td>125.0</td>\n",
       "      <td>60.0</td>\n",
       "      <td>1000.0</td>\n",
       "      <td>400.0</td>\n",
       "      <td>700.0</td>\n",
       "      <td>10.0</td>\n",
       "    </tr>\n",
       "    <tr>\n",
       "      <th>66</th>\n",
       "      <td>Maximum daily intake</td>\n",
       "      <td>2500.0</td>\n",
       "      <td>240.0</td>\n",
       "      <td>70.0</td>\n",
       "      <td>2000.0</td>\n",
       "      <td>450.0</td>\n",
       "      <td>250.0</td>\n",
       "      <td>100.0</td>\n",
       "      <td>10000.0</td>\n",
       "      <td>5000.0</td>\n",
       "      <td>1500.0</td>\n",
       "      <td>40.0</td>\n",
       "    </tr>\n",
       "  </tbody>\n",
       "</table>\n",
       "</div>"
      ],
      "text/plain": [
       "            Serving Size  Calories  Cholesterol mg  Total_Fat g  Sodium mg  \\\n",
       "65  Minimum daily intake    1500.0            30.0         20.0      800.0   \n",
       "66  Maximum daily intake    2500.0           240.0         70.0     2000.0   \n",
       "\n",
       "    Carbohydrates g  Dietary_Fiber g  Protein g  Vit_A IU  Vit_C IU  \\\n",
       "65            130.0            125.0       60.0    1000.0     400.0   \n",
       "66            450.0            250.0      100.0   10000.0    5000.0   \n",
       "\n",
       "    Calcium mg  Iron mg  \n",
       "65       700.0     10.0  \n",
       "66      1500.0     40.0  "
      ]
     },
     "execution_count": 5,
     "metadata": {},
     "output_type": "execute_result"
    }
   ],
   "source": [
    "constraints"
   ]
  },
  {
   "cell_type": "markdown",
   "metadata": {},
   "source": [
    "Convert the nutrients constraints data frame to nmix and nmax dictionaries."
   ]
  },
  {
   "cell_type": "code",
   "execution_count": 6,
   "metadata": {},
   "outputs": [],
   "source": [
    "nutrients= list(constraints.columns.values)[1:]\n",
    "nmin = dict(zip(nutrients, constraints.values.tolist()[0][1:]))\n",
    "nmax = dict(zip(nutrients, constraints.values.tolist()[1][1:]))"
   ]
  },
  {
   "cell_type": "markdown",
   "metadata": {},
   "source": [
    "Convert the diet dataframe to list and create a separate list of their names."
   ]
  },
  {
   "cell_type": "code",
   "execution_count": 7,
   "metadata": {},
   "outputs": [],
   "source": [
    "foods = diet.values.tolist()\n",
    "foodNames = [x[0] for x in foods]"
   ]
  },
  {
   "cell_type": "markdown",
   "metadata": {},
   "source": [
    "Create a cost dictionary which contains the cost of each food."
   ]
  },
  {
   "cell_type": "code",
   "execution_count": 8,
   "metadata": {},
   "outputs": [],
   "source": [
    "cost = dict([(x[0], x[1]) for x in foods])"
   ]
  },
  {
   "cell_type": "markdown",
   "metadata": {},
   "source": [
    "Create a dictionary of nutrients containing the nutrients of each food."
   ]
  },
  {
   "cell_type": "code",
   "execution_count": 9,
   "metadata": {},
   "outputs": [],
   "source": [
    "nutrient = {}\n",
    "for i in range(len(nutrients)):\n",
    "    nutr = nutrients[i]\n",
    "    nutrient[nutr] = dict([(f[0], f[i+3]) for f in foods])"
   ]
  },
  {
   "cell_type": "markdown",
   "metadata": {},
   "source": [
    "Create the optimization problem using the pulps moddule, minimizing the cost of food while meeting the nutritional constaints."
   ]
  },
  {
   "cell_type": "code",
   "execution_count": 10,
   "metadata": {},
   "outputs": [],
   "source": [
    "prob = LpProblem(\"The Diet Problem\", LpMinimize)"
   ]
  },
  {
   "cell_type": "markdown",
   "metadata": {},
   "source": [
    "Assign the objective function to minimize the cost to the problem."
   ]
  },
  {
   "cell_type": "code",
   "execution_count": 11,
   "metadata": {},
   "outputs": [],
   "source": [
    "food_vars = LpVariable.dicts(\"Food\",foodNames,0)\n",
    "prob += lpSum([cost[food]*food_vars[food] for food in foodNames])\n",
    "food_selected_vars = LpVariable.dicts(\"Selected\", foodNames, lowBound=0, upBound=1, cat=\"Binary\")"
   ]
  },
  {
   "cell_type": "markdown",
   "metadata": {},
   "source": [
    "Assign the food variables with their nutritional constraints to the problem."
   ]
  },
  {
   "cell_type": "code",
   "execution_count": 12,
   "metadata": {},
   "outputs": [],
   "source": [
    "for n in nutrients:\n",
    "    prob += lpSum([nutrient[n][f] * food_vars[f] for f in foodNames]) >= nmin[n]\n",
    "    prob += lpSum([nutrient[n][f] * food_vars[f] for f in foodNames]) <= nmax[n]\n"
   ]
  },
  {
   "cell_type": "markdown",
   "metadata": {},
   "source": [
    "Solve the problem."
   ]
  },
  {
   "cell_type": "code",
   "execution_count": 13,
   "metadata": {},
   "outputs": [
    {
     "data": {
      "text/plain": [
       "1"
      ]
     },
     "execution_count": 13,
     "metadata": {},
     "output_type": "execute_result"
    }
   ],
   "source": [
    "prob.solve()"
   ]
  },
  {
   "cell_type": "markdown",
   "metadata": {},
   "source": [
    "Display the solution."
   ]
  },
  {
   "cell_type": "code",
   "execution_count": 14,
   "metadata": {},
   "outputs": [
    {
     "name": "stdout",
     "output_type": "stream",
     "text": [
      "52.64371 units of Celery,_Raw\n",
      "0.25960653 units of Frozen_Broccoli\n",
      "63.988506 units of Lettuce,Iceberg,Raw\n",
      "2.2929389 units of Oranges\n",
      "0.14184397 units of Poached_Eggs\n",
      "13.869322 units of Popcorn,Air_Popped\n",
      "\n",
      "Total cost of food = $4.34\n"
     ]
    }
   ],
   "source": [
    "for var in prob.variables():\n",
    "    if var.varValue > 0:\n",
    "        print(str(var.varValue)+\" units of \"+str(var).replace('Food_','') )\n",
    "print()\n",
    "print(\"Total cost of food = $%.2f\" % value(prob.objective)) "
   ]
  },
  {
   "cell_type": "markdown",
   "metadata": {},
   "source": [
    "\n",
    "Please add to your model the following constraints (which might require adding more variables) and solve the new model:\n",
    "\n",
    "a. If a food is selected, then a minimum of 1/10 serving must be chosen. (Hint: now you will\n",
    "need two variables for each food i: whether it is chosen, and how much is part of the diet.\n",
    "You’ll also need to write a constraint to link them.)"
   ]
  },
  {
   "cell_type": "markdown",
   "metadata": {},
   "source": [
    "Recreate the problem above but add a 2nd binary value to store if the food was selected, so we can use it for our additional constraints."
   ]
  },
  {
   "cell_type": "code",
   "execution_count": 15,
   "metadata": {},
   "outputs": [],
   "source": [
    "prob2 = LpProblem(\"The Diet Problem\", LpMinimize)\n",
    "food_vars = LpVariable.dicts(\"Food\",foodNames,0)\n",
    "prob2 += lpSum([cost[food]*food_vars[food] for food in foodNames])\n",
    "food_selected_vars = LpVariable.dicts(\"Selected\", foodNames, lowBound=0, upBound=1, cat=\"Binary\")\n",
    "\n",
    "for n in nutrients:\n",
    "    prob2 += lpSum([nutrient[n][f] * food_vars[f] for f in foodNames]) >= nmin[n]\n",
    "    prob2+= lpSum([nutrient[n][f] * food_vars[f] for f in foodNames]) <= nmax[n]"
   ]
  },
  {
   "cell_type": "markdown",
   "metadata": {},
   "source": [
    "Add the constraint of selecting at least 1/10 serving."
   ]
  },
  {
   "cell_type": "code",
   "execution_count": 16,
   "metadata": {},
   "outputs": [],
   "source": [
    "for f in foodNames:\n",
    "    prob2 += food_vars[f] <= food_selected_vars[f] * 1000000\n",
    "    prob2 += food_vars[f] >= food_selected_vars[f] * 0.1"
   ]
  },
  {
   "cell_type": "markdown",
   "metadata": {},
   "source": [
    "b. Many people dislike celery and frozen broccoli. So at most one, but not both, can be\n",
    "selected."
   ]
  },
  {
   "cell_type": "markdown",
   "metadata": {},
   "source": [
    "Allow at most one celery of broccoli to be selected."
   ]
  },
  {
   "cell_type": "code",
   "execution_count": 17,
   "metadata": {},
   "outputs": [],
   "source": [
    " prob2 += food_selected_vars['Celery, Raw'] + food_selected_vars['Frozen Broccoli'] <= 1"
   ]
  },
  {
   "cell_type": "markdown",
   "metadata": {},
   "source": [
    "c. To get day-to-day variety in protein, at least 3 kinds of meat/poultry/fish/eggs must be\n",
    "selected. [If something is ambiguous (e.g., should bean-and-bacon soup be considered meat?), just call it whatever you think is appropriate – I want you to learn how to write this type of constraint, but I don’t really care whether we agree on how to classify foods!]"
   ]
  },
  {
   "cell_type": "markdown",
   "metadata": {},
   "source": [
    "At least 3 kinds of meat/poultry/fish/eggs must be selected."
   ]
  },
  {
   "cell_type": "code",
   "execution_count": 18,
   "metadata": {},
   "outputs": [],
   "source": [
    "meats = [\n",
    "    'Roasted Chicken',\n",
    "    'Poached Eggs',\n",
    "    'Scrambled Eggs',\n",
    "    'Bologna,Turkey',\n",
    "    'Frankfurter, Beef',\n",
    "    'Ham,Sliced,Extralean',\n",
    "    'Kielbasa,Prk',\n",
    "    'Taco',\n",
    "    'Hamburger W/Toppings',\n",
    "    'Hotdog, Plain','Pork',\n",
    "    'Sardines in Oil',\n",
    "    'White Tuna in Water']\n",
    "\n",
    "prob2 += lpSum([food_selected_vars[meat] for meat in meats]) >= 3"
   ]
  },
  {
   "cell_type": "markdown",
   "metadata": {},
   "source": [
    "Solve the optimization problem."
   ]
  },
  {
   "cell_type": "code",
   "execution_count": 19,
   "metadata": {},
   "outputs": [
    {
     "data": {
      "text/plain": [
       "1"
      ]
     },
     "execution_count": 19,
     "metadata": {},
     "output_type": "execute_result"
    }
   ],
   "source": [
    "prob2.solve()"
   ]
  },
  {
   "cell_type": "markdown",
   "metadata": {},
   "source": [
    "Display the solution."
   ]
  },
  {
   "cell_type": "code",
   "execution_count": 20,
   "metadata": {},
   "outputs": [
    {
     "name": "stdout",
     "output_type": "stream",
     "text": [
      "42.399358 units of Celery,_Raw\n",
      "0.1 units of Kielbasa,Prk\n",
      "82.802586 units of Lettuce,Iceberg,Raw\n",
      "3.0771841 units of Oranges\n",
      "1.9429716 units of Peanut_Butter\n",
      "0.1 units of Poached_Eggs\n",
      "13.223294 units of Popcorn,Air_Popped\n",
      "0.1 units of Scrambled_Eggs\n",
      "1.0 units of Selected_Celery,_Raw\n",
      "1.0 units of Selected_Kielbasa,Prk\n",
      "1.0 units of Selected_Lettuce,Iceberg,Raw\n",
      "1.0 units of Selected_Oranges\n",
      "1.0 units of Selected_Peanut_Butter\n",
      "1.0 units of Selected_Poached_Eggs\n",
      "1.0 units of Selected_Popcorn,Air_Popped\n",
      "1.0 units of Selected_Scrambled_Eggs\n",
      "\n",
      "Total cost of food = $4.51\n"
     ]
    }
   ],
   "source": [
    "for var in prob2.variables():\n",
    "    if var.varValue > 0.0:\n",
    "        print(str(var.varValue)+\" units of \"+str(var).replace('Food_','') )\n",
    "print()\n",
    "print(\"Total cost of food = $%.2f\" % value(prob2.objective)) "
   ]
  },
  {
   "cell_type": "markdown",
   "metadata": {},
   "source": [
    "If you want to see what a more full-sized problem would look like, try solving your models for the file diet_large.xls, which is a low-cholesterol diet model (rather than minimizing cost, the goal is to minimize cholesterol intake). I don’t know anyone who’d want to eat this diet – the optimal solution includes dried chrysanthemum garland, raw beluga whale flipper, freeze-dried parsley, etc. – which shows why it’s necessary to add additional constraints beyond the basic ones we saw in the video!\n",
    "[Note: there are many optimal solutions, all with zero cholesterol, so you might get a different one. It probably won’t be much more appetizing than mine.]"
   ]
  },
  {
   "cell_type": "markdown",
   "metadata": {},
   "source": [
    "Read in the diet large excel file."
   ]
  },
  {
   "cell_type": "code",
   "execution_count": 21,
   "metadata": {},
   "outputs": [],
   "source": [
    "excel2 = pd.read_excel('diet_large.xls')"
   ]
  },
  {
   "cell_type": "markdown",
   "metadata": {},
   "source": [
    "The excel file as is has no values when there should be 0s, we need to fillna the pandas dataframe to cope."
   ]
  },
  {
   "cell_type": "code",
   "execution_count": 22,
   "metadata": {},
   "outputs": [],
   "source": [
    "excel2 = excel2.fillna(0)"
   ]
  },
  {
   "cell_type": "markdown",
   "metadata": {},
   "source": [
    "Check the tail of the excel2 dataframe to find our nutritional constraints."
   ]
  },
  {
   "cell_type": "code",
   "execution_count": 23,
   "metadata": {},
   "outputs": [
    {
     "data": {
      "text/html": [
       "<div>\n",
       "<style scoped>\n",
       "    .dataframe tbody tr th:only-of-type {\n",
       "        vertical-align: middle;\n",
       "    }\n",
       "\n",
       "    .dataframe tbody tr th {\n",
       "        vertical-align: top;\n",
       "    }\n",
       "\n",
       "    .dataframe thead th {\n",
       "        text-align: right;\n",
       "    }\n",
       "</style>\n",
       "<table border=\"1\" class=\"dataframe\">\n",
       "  <thead>\n",
       "    <tr style=\"text-align: right;\">\n",
       "      <th></th>\n",
       "      <th>Long_Desc</th>\n",
       "      <th>Protein</th>\n",
       "      <th>Carbohydrate, by difference</th>\n",
       "      <th>Energy</th>\n",
       "      <th>Water</th>\n",
       "      <th>Energy.1</th>\n",
       "      <th>Calcium, Ca</th>\n",
       "      <th>Iron, Fe</th>\n",
       "      <th>Magnesium, Mg</th>\n",
       "      <th>Phosphorus, P</th>\n",
       "      <th>...</th>\n",
       "      <th>Riboflavin</th>\n",
       "      <th>Niacin</th>\n",
       "      <th>Pantothenic acid</th>\n",
       "      <th>Vitamin B-6</th>\n",
       "      <th>Folate, total</th>\n",
       "      <th>Vitamin B-12</th>\n",
       "      <th>Vitamin K (phylloquinone)</th>\n",
       "      <th>Cholesterol</th>\n",
       "      <th>Fatty acids, total trans</th>\n",
       "      <th>Fatty acids, total saturated</th>\n",
       "    </tr>\n",
       "  </thead>\n",
       "  <tbody>\n",
       "    <tr>\n",
       "      <th>7145</th>\n",
       "      <td>Turtle, green, raw</td>\n",
       "      <td>19.8</td>\n",
       "      <td>0</td>\n",
       "      <td>89</td>\n",
       "      <td>78.5</td>\n",
       "      <td>372.0</td>\n",
       "      <td>118</td>\n",
       "      <td>1.4</td>\n",
       "      <td>20</td>\n",
       "      <td>180</td>\n",
       "      <td>...</td>\n",
       "      <td>0.15</td>\n",
       "      <td>1.1</td>\n",
       "      <td>0</td>\n",
       "      <td>0.12</td>\n",
       "      <td>15</td>\n",
       "      <td>1</td>\n",
       "      <td>0.1</td>\n",
       "      <td>50.0</td>\n",
       "      <td>0.0</td>\n",
       "      <td>0.127</td>\n",
       "    </tr>\n",
       "    <tr>\n",
       "      <th>7146</th>\n",
       "      <td>0</td>\n",
       "      <td>0</td>\n",
       "      <td>0</td>\n",
       "      <td>0</td>\n",
       "      <td>0</td>\n",
       "      <td>0.0</td>\n",
       "      <td>0</td>\n",
       "      <td>0</td>\n",
       "      <td>0</td>\n",
       "      <td>0</td>\n",
       "      <td>...</td>\n",
       "      <td>0</td>\n",
       "      <td>0</td>\n",
       "      <td>0</td>\n",
       "      <td>0</td>\n",
       "      <td>0</td>\n",
       "      <td>0</td>\n",
       "      <td>0</td>\n",
       "      <td>0.0</td>\n",
       "      <td>0.0</td>\n",
       "      <td>0.000</td>\n",
       "    </tr>\n",
       "    <tr>\n",
       "      <th>7147</th>\n",
       "      <td>0</td>\n",
       "      <td>56</td>\n",
       "      <td>130</td>\n",
       "      <td>2400</td>\n",
       "      <td>3700</td>\n",
       "      <td>2400.0</td>\n",
       "      <td>1000</td>\n",
       "      <td>8</td>\n",
       "      <td>270</td>\n",
       "      <td>700</td>\n",
       "      <td>...</td>\n",
       "      <td>1.3</td>\n",
       "      <td>16</td>\n",
       "      <td>5</td>\n",
       "      <td>1.3</td>\n",
       "      <td>400</td>\n",
       "      <td>2.4</td>\n",
       "      <td>120</td>\n",
       "      <td>0.0</td>\n",
       "      <td>0.0</td>\n",
       "      <td>0.000</td>\n",
       "    </tr>\n",
       "    <tr>\n",
       "      <th>7148</th>\n",
       "      <td>0</td>\n",
       "      <td>g/d</td>\n",
       "      <td>g/d</td>\n",
       "      <td>kcal</td>\n",
       "      <td>g</td>\n",
       "      <td>0.0</td>\n",
       "      <td>mg/d</td>\n",
       "      <td>mg/d</td>\n",
       "      <td>mg/d</td>\n",
       "      <td>mg/d</td>\n",
       "      <td>...</td>\n",
       "      <td>mg/d</td>\n",
       "      <td>mg/d</td>\n",
       "      <td>mg/d</td>\n",
       "      <td>mg/d</td>\n",
       "      <td>microg/d</td>\n",
       "      <td>microg/d</td>\n",
       "      <td>microg/d</td>\n",
       "      <td>0.0</td>\n",
       "      <td>0.0</td>\n",
       "      <td>0.000</td>\n",
       "    </tr>\n",
       "    <tr>\n",
       "      <th>7149</th>\n",
       "      <td>0</td>\n",
       "      <td>1000000</td>\n",
       "      <td>1000000</td>\n",
       "      <td>1000000</td>\n",
       "      <td>1000000</td>\n",
       "      <td>1000000.0</td>\n",
       "      <td>2500</td>\n",
       "      <td>45</td>\n",
       "      <td>400</td>\n",
       "      <td>4000</td>\n",
       "      <td>...</td>\n",
       "      <td>1000000</td>\n",
       "      <td>35</td>\n",
       "      <td>1000000</td>\n",
       "      <td>100</td>\n",
       "      <td>1000</td>\n",
       "      <td>1000000</td>\n",
       "      <td>1000000</td>\n",
       "      <td>0.0</td>\n",
       "      <td>0.0</td>\n",
       "      <td>0.000</td>\n",
       "    </tr>\n",
       "  </tbody>\n",
       "</table>\n",
       "<p>5 rows × 31 columns</p>\n",
       "</div>"
      ],
      "text/plain": [
       "               Long_Desc  Protein Carbohydrate, by difference   Energy  \\\n",
       "7145  Turtle, green, raw     19.8                           0       89   \n",
       "7146                   0        0                           0        0   \n",
       "7147                   0       56                         130     2400   \n",
       "7148                   0      g/d                         g/d     kcal   \n",
       "7149                   0  1000000                     1000000  1000000   \n",
       "\n",
       "        Water   Energy.1 Calcium, Ca Iron, Fe Magnesium, Mg Phosphorus, P  \\\n",
       "7145     78.5      372.0         118      1.4            20           180   \n",
       "7146        0        0.0           0        0             0             0   \n",
       "7147     3700     2400.0        1000        8           270           700   \n",
       "7148        g        0.0        mg/d     mg/d          mg/d          mg/d   \n",
       "7149  1000000  1000000.0        2500       45           400          4000   \n",
       "\n",
       "                 ...              Riboflavin Niacin Pantothenic acid  \\\n",
       "7145             ...                    0.15    1.1                0   \n",
       "7146             ...                       0      0                0   \n",
       "7147             ...                     1.3     16                5   \n",
       "7148             ...                    mg/d   mg/d             mg/d   \n",
       "7149             ...                 1000000     35          1000000   \n",
       "\n",
       "     Vitamin B-6 Folate, total Vitamin B-12 Vitamin K (phylloquinone)  \\\n",
       "7145        0.12            15            1                       0.1   \n",
       "7146           0             0            0                         0   \n",
       "7147         1.3           400          2.4                       120   \n",
       "7148        mg/d      microg/d     microg/d                  microg/d   \n",
       "7149         100          1000      1000000                   1000000   \n",
       "\n",
       "     Cholesterol Fatty acids, total trans Fatty acids, total saturated  \n",
       "7145        50.0                      0.0                        0.127  \n",
       "7146         0.0                      0.0                        0.000  \n",
       "7147         0.0                      0.0                        0.000  \n",
       "7148         0.0                      0.0                        0.000  \n",
       "7149         0.0                      0.0                        0.000  \n",
       "\n",
       "[5 rows x 31 columns]"
      ]
     },
     "execution_count": 23,
     "metadata": {},
     "output_type": "execute_result"
    }
   ],
   "source": [
    "excel2.tail()"
   ]
  },
  {
   "cell_type": "markdown",
   "metadata": {},
   "source": [
    "Split the datframe into 2, one including the diet, the other including the constraints."
   ]
  },
  {
   "cell_type": "code",
   "execution_count": 24,
   "metadata": {},
   "outputs": [
    {
     "data": {
      "text/html": [
       "<div>\n",
       "<style scoped>\n",
       "    .dataframe tbody tr th:only-of-type {\n",
       "        vertical-align: middle;\n",
       "    }\n",
       "\n",
       "    .dataframe tbody tr th {\n",
       "        vertical-align: top;\n",
       "    }\n",
       "\n",
       "    .dataframe thead th {\n",
       "        text-align: right;\n",
       "    }\n",
       "</style>\n",
       "<table border=\"1\" class=\"dataframe\">\n",
       "  <thead>\n",
       "    <tr style=\"text-align: right;\">\n",
       "      <th></th>\n",
       "      <th>Protein</th>\n",
       "      <th>Carbohydrate, by difference</th>\n",
       "      <th>Energy</th>\n",
       "      <th>Water</th>\n",
       "      <th>Energy.1</th>\n",
       "      <th>Calcium, Ca</th>\n",
       "      <th>Iron, Fe</th>\n",
       "      <th>Magnesium, Mg</th>\n",
       "      <th>Phosphorus, P</th>\n",
       "      <th>Potassium, K</th>\n",
       "      <th>...</th>\n",
       "      <th>Riboflavin</th>\n",
       "      <th>Niacin</th>\n",
       "      <th>Pantothenic acid</th>\n",
       "      <th>Vitamin B-6</th>\n",
       "      <th>Folate, total</th>\n",
       "      <th>Vitamin B-12</th>\n",
       "      <th>Vitamin K (phylloquinone)</th>\n",
       "      <th>Cholesterol</th>\n",
       "      <th>Fatty acids, total trans</th>\n",
       "      <th>Fatty acids, total saturated</th>\n",
       "    </tr>\n",
       "  </thead>\n",
       "  <tbody>\n",
       "    <tr>\n",
       "      <th>7147</th>\n",
       "      <td>56</td>\n",
       "      <td>130</td>\n",
       "      <td>2400</td>\n",
       "      <td>3700</td>\n",
       "      <td>2400.0</td>\n",
       "      <td>1000</td>\n",
       "      <td>8</td>\n",
       "      <td>270</td>\n",
       "      <td>700</td>\n",
       "      <td>4700</td>\n",
       "      <td>...</td>\n",
       "      <td>1.3</td>\n",
       "      <td>16</td>\n",
       "      <td>5</td>\n",
       "      <td>1.3</td>\n",
       "      <td>400</td>\n",
       "      <td>2.4</td>\n",
       "      <td>120</td>\n",
       "      <td>0.0</td>\n",
       "      <td>0.0</td>\n",
       "      <td>0.0</td>\n",
       "    </tr>\n",
       "    <tr>\n",
       "      <th>7149</th>\n",
       "      <td>1000000</td>\n",
       "      <td>1000000</td>\n",
       "      <td>1000000</td>\n",
       "      <td>1000000</td>\n",
       "      <td>1000000.0</td>\n",
       "      <td>2500</td>\n",
       "      <td>45</td>\n",
       "      <td>400</td>\n",
       "      <td>4000</td>\n",
       "      <td>1000000</td>\n",
       "      <td>...</td>\n",
       "      <td>1000000</td>\n",
       "      <td>35</td>\n",
       "      <td>1000000</td>\n",
       "      <td>100</td>\n",
       "      <td>1000</td>\n",
       "      <td>1000000</td>\n",
       "      <td>1000000</td>\n",
       "      <td>0.0</td>\n",
       "      <td>0.0</td>\n",
       "      <td>0.0</td>\n",
       "    </tr>\n",
       "  </tbody>\n",
       "</table>\n",
       "<p>2 rows × 30 columns</p>\n",
       "</div>"
      ],
      "text/plain": [
       "      Protein Carbohydrate, by difference   Energy    Water   Energy.1  \\\n",
       "7147       56                         130     2400     3700     2400.0   \n",
       "7149  1000000                     1000000  1000000  1000000  1000000.0   \n",
       "\n",
       "     Calcium, Ca Iron, Fe Magnesium, Mg Phosphorus, P Potassium, K  \\\n",
       "7147        1000        8           270           700         4700   \n",
       "7149        2500       45           400          4000      1000000   \n",
       "\n",
       "                 ...              Riboflavin Niacin Pantothenic acid  \\\n",
       "7147             ...                     1.3     16                5   \n",
       "7149             ...                 1000000     35          1000000   \n",
       "\n",
       "     Vitamin B-6 Folate, total Vitamin B-12 Vitamin K (phylloquinone)  \\\n",
       "7147         1.3           400          2.4                       120   \n",
       "7149         100          1000      1000000                   1000000   \n",
       "\n",
       "     Cholesterol Fatty acids, total trans Fatty acids, total saturated  \n",
       "7147         0.0                      0.0                          0.0  \n",
       "7149         0.0                      0.0                          0.0  \n",
       "\n",
       "[2 rows x 30 columns]"
      ]
     },
     "execution_count": 24,
     "metadata": {},
     "output_type": "execute_result"
    }
   ],
   "source": [
    "diet2 = excel2[:7146]\n",
    "constraints2 = excel2[7147:]\n",
    "constraints2 = constraints2.drop(constraints2.index[1])\n",
    "constaints2 = constraints2.fillna(0)\n",
    "constraints2.drop(['Long_Desc'], axis=1, inplace=True)\n",
    "constraints2"
   ]
  },
  {
   "cell_type": "markdown",
   "metadata": {},
   "source": [
    "Create a min and max dictionary of our nutritional constraints."
   ]
  },
  {
   "cell_type": "code",
   "execution_count": 25,
   "metadata": {},
   "outputs": [],
   "source": [
    "nutrients2 = list(constraints2.columns.values)\n",
    "nmin2 = dict(zip(nutrients2, constraints2.values.tolist()[0]))\n",
    "nmax2 = dict(zip(nutrients2, constraints2.values.tolist()[1]))"
   ]
  },
  {
   "cell_type": "markdown",
   "metadata": {},
   "source": [
    "Create an array of all of the food names in the diet data frame."
   ]
  },
  {
   "cell_type": "code",
   "execution_count": 26,
   "metadata": {},
   "outputs": [],
   "source": [
    "foods2 = diet2.values.tolist()\n",
    "foodNames2 = [x[0] for x in foods2]"
   ]
  },
  {
   "cell_type": "markdown",
   "metadata": {},
   "source": [
    "Create a dictionary of cholesterol values for all items in our diet data frame."
   ]
  },
  {
   "cell_type": "code",
   "execution_count": 27,
   "metadata": {},
   "outputs": [],
   "source": [
    "cholesterol = dict([(x[0], x[28]) for x in foods2])"
   ]
  },
  {
   "cell_type": "markdown",
   "metadata": {},
   "source": [
    "Create a dictionary of all other nutrients for all items in our diet data frame."
   ]
  },
  {
   "cell_type": "code",
   "execution_count": 28,
   "metadata": {},
   "outputs": [],
   "source": [
    "nutrient2 = {}\n",
    "for i in range(len(nutrients2)):\n",
    "    nutr = nutrients2[i]\n",
    "    nutrient2[nutr] = dict([(f[0], f[i+1]) for f in foods2])"
   ]
  },
  {
   "cell_type": "markdown",
   "metadata": {},
   "source": [
    "Create the optimization problem using the pulps moddule, minimizing the cholesterol intake while meeting the rest of the nutritional constaints."
   ]
  },
  {
   "cell_type": "code",
   "execution_count": 29,
   "metadata": {},
   "outputs": [],
   "source": [
    "prob3 = LpProblem(\"The Large Diet Problem\", LpMinimize)\n",
    "food_vars2 = LpVariable.dicts(\"Food2\",foodNames2,0)\n",
    "prob3 += lpSum([cholesterol[food]*food_vars2[food] for food in foodNames2])\n",
    "for n in nutrients2:\n",
    "    prob3 += lpSum([nutrient2[n][f] * food_vars2[f] for f in foodNames2]) >= nmin2[n]\n",
    "    prob3 += lpSum([nutrient2[n][f] * food_vars2[f] for f in foodNames2]) <= nmax2[n]"
   ]
  },
  {
   "cell_type": "markdown",
   "metadata": {},
   "source": [
    "Solve the problemm."
   ]
  },
  {
   "cell_type": "code",
   "execution_count": 30,
   "metadata": {},
   "outputs": [
    {
     "data": {
      "text/plain": [
       "1"
      ]
     },
     "execution_count": 30,
     "metadata": {},
     "output_type": "execute_result"
    }
   ],
   "source": [
    "prob3.solve()"
   ]
  },
  {
   "cell_type": "markdown",
   "metadata": {},
   "source": [
    "Display the results."
   ]
  },
  {
   "cell_type": "code",
   "execution_count": 31,
   "metadata": {},
   "outputs": [
    {
     "name": "stdout",
     "output_type": "stream",
     "text": [
      "1.1642403 units of Food2_Cereals_ready_to_eat,_NATURE'S_PATH,_OPTIMUM_SLIM\n",
      "0.7518797 units of Food2_Cereals_ready_to_eat,_composite_character_cereals_(movies,_TV),\n",
      "0.57206552 units of Food2_Chiton,_leathery,_gumboots_(Alaska_Native)\n",
      "0.21465428 units of Food2_Egg,_white,_dried\n",
      "0.45547635 units of Food2_Jew's_ear,_(pepeao),_dried\n",
      "0.16709335 units of Food2_KRAFT,_Sugar_Free_COUNTRY_TIME_Pink_Lemonade_Mix,_with_vitamin_\n",
      "0.17539672 units of Food2_Leavening_agents,_cream_of_tartar\n",
      "0.27078841 units of Food2_Lettuce,_red_leaf,_raw\n",
      "0.34185148 units of Food2_Margarine,_regular,_hard,_soybean_(hydrogenated)_and_cottonseed\n",
      "0.64387872 units of Food2_Oil,_whale,_bowhead_(Alaska_Native)\n",
      "9999.0273 units of Food2_Water,_bottled,_non_carbonated,_CALISTOGA\n",
      "0.015495182 units of Food2_Whale,_beluga,_meat,_air_dried,_raw_(Alaska_Native)\n",
      "\n",
      "Total cholesterol of food = 0.00\n"
     ]
    }
   ],
   "source": [
    "for var in prob3.variables():\n",
    "    if var.varValue > 0.0:\n",
    "        print(str(var.varValue)+\" units of \"+str(var).replace('Food_','') )\n",
    "print()\n",
    "print(\"Total cholesterol of food = %.2f\" % value(prob3.objective)) "
   ]
  }
 ],
 "metadata": {
  "kernelspec": {
   "display_name": "Python 3",
   "language": "python",
   "name": "python3"
  },
  "language_info": {
   "codemirror_mode": {
    "name": "ipython",
    "version": 3
   },
   "file_extension": ".py",
   "mimetype": "text/x-python",
   "name": "python",
   "nbconvert_exporter": "python",
   "pygments_lexer": "ipython3",
   "version": "3.5.5"
  }
 },
 "nbformat": 4,
 "nbformat_minor": 2
}
