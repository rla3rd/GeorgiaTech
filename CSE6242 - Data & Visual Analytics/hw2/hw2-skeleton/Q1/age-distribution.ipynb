{
 "cells": [
  {
   "cell_type": "code",
   "execution_count": 31,
   "metadata": {},
   "outputs": [],
   "source": [
    "import pandas as pd\n",
    "import numpy as np\n",
    "data = pd.read_csv('age-distribution.csv')"
   ]
  },
  {
   "cell_type": "code",
   "execution_count": 32,
   "metadata": {},
   "outputs": [],
   "source": [
    "years = data[data['year'].isin([2017, 2018])]\n",
    "years = years.reset_index(drop=True)"
   ]
  },
  {
   "cell_type": "code",
   "execution_count": 33,
   "metadata": {},
   "outputs": [],
   "source": [
    "def ifelse(cond, a, b):\n",
    "    if cond:\n",
    "        return a\n",
    "    else:\n",
    "        return b"
   ]
  },
  {
   "cell_type": "code",
   "execution_count": 34,
   "metadata": {},
   "outputs": [
    {
     "name": "stderr",
     "output_type": "stream",
     "text": [
      "/Users/ralbright/anaconda3/lib/python3.7/site-packages/ipykernel_launcher.py:2: SettingWithCopyWarning: \n",
      "A value is trying to be set on a copy of a slice from a DataFrame.\n",
      "Try using .loc[row_indexer,col_indexer] = value instead\n",
      "\n",
      "See the caveats in the documentation: http://pandas.pydata.org/pandas-docs/stable/user_guide/indexing.html#returning-a-view-versus-a-copy\n",
      "  \n",
      "/Users/ralbright/anaconda3/lib/python3.7/site-packages/ipykernel_launcher.py:6: SettingWithCopyWarning: \n",
      "A value is trying to be set on a copy of a slice from a DataFrame.\n",
      "Try using .loc[row_indexer,col_indexer] = value instead\n",
      "\n",
      "See the caveats in the documentation: http://pandas.pydata.org/pandas-docs/stable/user_guide/indexing.html#returning-a-view-versus-a-copy\n",
      "  \n",
      "/Users/ralbright/anaconda3/lib/python3.7/site-packages/ipykernel_launcher.py:10: SettingWithCopyWarning: \n",
      "A value is trying to be set on a copy of a slice from a DataFrame.\n",
      "Try using .loc[row_indexer,col_indexer] = value instead\n",
      "\n",
      "See the caveats in the documentation: http://pandas.pydata.org/pandas-docs/stable/user_guide/indexing.html#returning-a-view-versus-a-copy\n",
      "  # Remove the CWD from sys.path while we load stuff.\n"
     ]
    }
   ],
   "source": [
    "males = years[years['level_1'].str.contains('Male')]\n",
    "males['ethnicity'] = males['level_1'].apply(lambda x: x.replace('Male', '').replace(' (s)', '').replace('  ', ' '))\n",
    "males = males.rename(columns={'level_1': 'sex', 'level_2': 'age_group', 'value': 'count'})\n",
    "males['sex'] = 'Male'\n",
    "females = years[years['level_1'].str.contains('Female')]\n",
    "females['ethnicity'] = females['level_1'].apply(lambda x: x.replace('Female', '').replace(' (s)', '').replace('  ', ' '))\n",
    "females = females.rename(columns={'level_1': 'sex', 'level_2': 'age_group', 'value': 'count'})\n",
    "females['sex'] = 'Female'\n",
    "total = years[~years['level_1'].str.contains('Male') & ~years['level_1'].str.contains('Female')]\n",
    "total['ethnicity'] = total['level_1'].apply(lambda x: x.replace(' (Total)', ''))\n",
    "total = total.rename(columns={'level_1': 'sex', 'level_2': 'age_group', 'value': 'count'})\n",
    "total['sex'] = 'Total'"
   ]
  },
  {
   "cell_type": "code",
   "execution_count": 35,
   "metadata": {},
   "outputs": [],
   "source": [
    "sexes = males.merge(females, how='inner', on=['year', 'ethnicity', 'age_group'], suffixes=('_male', '_female'))\n",
    "sexes = sexes.drop(columns=['sex_male', 'sex_female'])\n",
    "sexes = sexes[['year', 'ethnicity', 'age_group', 'count_male', 'count_female']]\n",
    "df = sexes.merge(total, how='inner', on=['year', 'ethnicity', 'age_group'])\n",
    "df = df.drop(columns=['sex'])\n",
    "df = df.rename(columns={'count_male': 'male', 'count_female': 'female', 'count': 'total', 'age_group': 'age'})\n",
    "df['ethnicity'].unique()\n",
    "df.loc[df['ethnicity'] == 'Other Ethnic Groups','ethnicity'] = 'Other'\n",
    "df.loc[df['ethnicity'] == 'Total Chinese','ethnicity'] = 'Chinese'\n",
    "df.loc[df['ethnicity'] == 'Total Malays','ethnicity'] = 'Malay'\n",
    "df.loc[df['ethnicity'] == 'Total Indians','ethnicity'] = 'Indian'\n",
    "df.loc[df['ethnicity'] == 'Total Residents','ethnicity'] = 'Total'\n",
    "df['age'] = df['age'].apply(lambda x: x.replace(' Years', ''))\n",
    "df['age'] = df['age'].apply(lambda x: ifelse('&' in x, x.replace(' & Over', '+'), x))\n",
    "df['male'] = df['male'].astype(int)\n",
    "df['female'] = df['female'].astype(int)\n",
    "df['total'] = df['total'].astype(int)"
   ]
  },
  {
   "cell_type": "code",
   "execution_count": 36,
   "metadata": {},
   "outputs": [
    {
     "name": "stderr",
     "output_type": "stream",
     "text": [
      "/Users/ralbright/anaconda3/lib/python3.7/site-packages/ipykernel_launcher.py:6: SettingWithCopyWarning: \n",
      "A value is trying to be set on a copy of a slice from a DataFrame\n",
      "\n",
      "See the caveats in the documentation: http://pandas.pydata.org/pandas-docs/stable/user_guide/indexing.html#returning-a-view-versus-a-copy\n",
      "  \n"
     ]
    }
   ],
   "source": [
    "pd.set_option('display.max_rows', None)\n",
    "over65 = df[['year', 'ethnicity', 'male', 'female', 'total']][df['age'] == '65+'].groupby(['year', 'ethnicity']).agg({'male':'sum','female':'sum', 'total': 'sum'})\n",
    "\n",
    "for col in ['male', 'female', 'total']:\n",
    "    for age in ['65+', '70+', '75+', '80+']:\n",
    "        df[col][df['age'] == age] = np.nan\n",
    "df = df.dropna()\n",
    "totals = df[['year', 'ethnicity', 'male', 'female', 'total']].groupby(['year', 'ethnicity']).agg({'male':'sum','female':'sum', 'total': 'sum'})\n",
    "\n",
    "pctOver65 = (over65 / totals * 100).apply(lambda x: np.round(x, 2))"
   ]
  },
  {
   "cell_type": "code",
   "execution_count": 38,
   "metadata": {},
   "outputs": [
    {
     "data": {
      "text/html": [
       "<div>\n",
       "<style scoped>\n",
       "    .dataframe tbody tr th:only-of-type {\n",
       "        vertical-align: middle;\n",
       "    }\n",
       "\n",
       "    .dataframe tbody tr th {\n",
       "        vertical-align: top;\n",
       "    }\n",
       "\n",
       "    .dataframe thead th {\n",
       "        text-align: right;\n",
       "    }\n",
       "</style>\n",
       "<table border=\"1\" class=\"dataframe\">\n",
       "  <thead>\n",
       "    <tr style=\"text-align: right;\">\n",
       "      <th></th>\n",
       "      <th></th>\n",
       "      <th>male_65+</th>\n",
       "      <th>female_65+</th>\n",
       "      <th>total_65+</th>\n",
       "    </tr>\n",
       "    <tr>\n",
       "      <th>year</th>\n",
       "      <th>ethnicity</th>\n",
       "      <th></th>\n",
       "      <th></th>\n",
       "      <th></th>\n",
       "    </tr>\n",
       "  </thead>\n",
       "  <tbody>\n",
       "    <tr>\n",
       "      <td rowspan=\"5\" valign=\"top\">2017</td>\n",
       "      <td>Chinese</td>\n",
       "      <td>13.67</td>\n",
       "      <td>15.70</td>\n",
       "      <td>14.71</td>\n",
       "    </tr>\n",
       "    <tr>\n",
       "      <td>Indian</td>\n",
       "      <td>7.72</td>\n",
       "      <td>9.21</td>\n",
       "      <td>8.45</td>\n",
       "    </tr>\n",
       "    <tr>\n",
       "      <td>Malay</td>\n",
       "      <td>7.70</td>\n",
       "      <td>9.48</td>\n",
       "      <td>8.60</td>\n",
       "    </tr>\n",
       "    <tr>\n",
       "      <td>Other</td>\n",
       "      <td>6.29</td>\n",
       "      <td>4.64</td>\n",
       "      <td>5.41</td>\n",
       "    </tr>\n",
       "    <tr>\n",
       "      <td>Total</td>\n",
       "      <td>12.07</td>\n",
       "      <td>13.95</td>\n",
       "      <td>13.03</td>\n",
       "    </tr>\n",
       "    <tr>\n",
       "      <td rowspan=\"5\" valign=\"top\">2018</td>\n",
       "      <td>Chinese</td>\n",
       "      <td>14.46</td>\n",
       "      <td>16.44</td>\n",
       "      <td>15.48</td>\n",
       "    </tr>\n",
       "    <tr>\n",
       "      <td>Indian</td>\n",
       "      <td>8.16</td>\n",
       "      <td>9.69</td>\n",
       "      <td>8.91</td>\n",
       "    </tr>\n",
       "    <tr>\n",
       "      <td>Malay</td>\n",
       "      <td>8.17</td>\n",
       "      <td>10.01</td>\n",
       "      <td>9.10</td>\n",
       "    </tr>\n",
       "    <tr>\n",
       "      <td>Other</td>\n",
       "      <td>6.68</td>\n",
       "      <td>4.90</td>\n",
       "      <td>5.72</td>\n",
       "    </tr>\n",
       "    <tr>\n",
       "      <td>Total</td>\n",
       "      <td>12.78</td>\n",
       "      <td>14.62</td>\n",
       "      <td>13.72</td>\n",
       "    </tr>\n",
       "  </tbody>\n",
       "</table>\n",
       "</div>"
      ],
      "text/plain": [
       "                male_65+  female_65+  total_65+\n",
       "year ethnicity                                 \n",
       "2017 Chinese       13.67       15.70      14.71\n",
       "     Indian         7.72        9.21       8.45\n",
       "     Malay          7.70        9.48       8.60\n",
       "     Other          6.29        4.64       5.41\n",
       "     Total         12.07       13.95      13.03\n",
       "2018 Chinese       14.46       16.44      15.48\n",
       "     Indian         8.16        9.69       8.91\n",
       "     Malay          8.17       10.01       9.10\n",
       "     Other          6.68        4.90       5.72\n",
       "     Total         12.78       14.62      13.72"
      ]
     },
     "execution_count": 38,
     "metadata": {},
     "output_type": "execute_result"
    }
   ],
   "source": [
    "pctOver65 = pctOver65.rename(columns={'male': 'male_65+', 'female': 'female_65+', 'total': 'total_65+'})\n",
    "pctOver65"
   ]
  },
  {
   "cell_type": "code",
   "execution_count": 39,
   "metadata": {},
   "outputs": [],
   "source": [
    "totals = totals.merge(pctOver65, how='inner', on=['year', 'ethnicity'])\n",
    "totals = totals[['male', 'male_65+', 'female', 'female_65+', 'total', 'total_65+']]"
   ]
  },
  {
   "cell_type": "code",
   "execution_count": 41,
   "metadata": {},
   "outputs": [],
   "source": [
    "totals.to_excel('age-distribution.xlsx')"
   ]
  },
  {
   "cell_type": "code",
   "execution_count": null,
   "metadata": {},
   "outputs": [],
   "source": []
  }
 ],
 "metadata": {
  "kernelspec": {
   "display_name": "Python 3",
   "language": "python",
   "name": "python3"
  },
  "language_info": {
   "codemirror_mode": {
    "name": "ipython",
    "version": 3
   },
   "file_extension": ".py",
   "mimetype": "text/x-python",
   "name": "python",
   "nbconvert_exporter": "python",
   "pygments_lexer": "ipython3",
   "version": "3.7.3"
  }
 },
 "nbformat": 4,
 "nbformat_minor": 2
}
